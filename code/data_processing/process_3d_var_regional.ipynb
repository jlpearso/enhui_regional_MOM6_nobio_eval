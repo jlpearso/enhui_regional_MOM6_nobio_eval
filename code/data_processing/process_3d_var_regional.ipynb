{
 "cells": [
  {
   "cell_type": "markdown",
   "metadata": {},
   "source": [
    "# Setup"
   ]
  },
  {
   "cell_type": "code",
   "execution_count": 21,
   "metadata": {},
   "outputs": [
    {
     "name": "stdout",
     "output_type": "stream",
     "text": [
      "Default libraries loaded.\n"
     ]
    }
   ],
   "source": [
    "# import your standard packages and parameters\n",
    "%run ../pkgs.py\n",
    "%run ../pars.py\n",
    "\n",
    "# import your local functions\n",
    "sys.path.insert(1, '../')\n",
    "from local_functions import *\n",
    "from MOM6_functions import *\n",
    "\n",
    "# make sure the figures plot inline rather than at the end\n",
    "%matplotlib inline"
   ]
  },
  {
   "cell_type": "markdown",
   "metadata": {},
   "source": [
    "# Paths and Fns"
   ]
  },
  {
   "cell_type": "code",
   "execution_count": 22,
   "metadata": {},
   "outputs": [],
   "source": [
    "inpath = '/scratch/gpfs2/GEOCLIM/LRGROUP/Liao/MOM6-regional-0522-2021/ice_ocean_SIS2/regional_IndianOcean_control_config_025_correctaxis/'\n",
    "outpath = '../../data/'\n",
    "\n",
    "outfn = '3d_var_regional_processed.nc'"
   ]
  },
  {
   "cell_type": "code",
   "execution_count": 23,
   "metadata": {},
   "outputs": [
    {
     "data": {
      "text/plain": [
       "<xarray.Dataset>\n",
       "Dimensions:       (nv: 2, time: 12, xh: 428, xq: 429, yh: 256, yq: 257, z_i: 36, z_l: 35)\n",
       "Coordinates:\n",
       "  * xh            (xh) float64 29.38 29.62 29.88 30.12 ... 135.6 135.9 136.1\n",
       "  * yh            (yh) float64 -30.46 -30.24 -30.02 -29.81 ... 29.81 30.02 30.24\n",
       "  * time          (time) object 2009-01-16 12:00:00 ... 2009-12-16 12:00:00\n",
       "  * nv            (nv) float64 1.0 2.0\n",
       "  * xq            (xq) float64 29.25 29.5 29.75 30.0 ... 135.5 135.8 136.0 136.2\n",
       "  * yq            (yq) float64 -30.56 -30.35 -30.13 -29.92 ... 29.92 30.13 30.35\n",
       "  * z_l           (z_l) float64 2.5 10.0 20.0 32.5 ... 5.5e+03 6e+03 6.5e+03\n",
       "  * z_i           (z_i) float64 0.0 5.0 15.0 25.0 ... 5.75e+03 6.25e+03 6.75e+03\n",
       "Data variables:\n",
       "    geolat        (yh, xh) float32 ...\n",
       "    geolon        (yh, xh) float32 ...\n",
       "    geolat_c      (yq, xq) float32 ...\n",
       "    geolon_c      (yq, xq) float32 ...\n",
       "    geolat_u      (yh, xq) float32 ...\n",
       "    geolon_u      (yh, xq) float32 ...\n",
       "    geolat_v      (yq, xh) float32 ...\n",
       "    geolon_v      (yq, xh) float32 ...\n",
       "    temp          (time, z_l, yh, xh) float32 ...\n",
       "    salt          (time, z_l, yh, xh) float32 ...\n",
       "    u             (time, z_l, yh, xq) float32 ...\n",
       "    v             (time, z_l, yq, xh) float32 ...\n",
       "    Kd_interface  (time, z_i, yh, xh) float32 ...\n",
       "    rhopot0       (time, z_l, yh, xh) float32 ...\n",
       "    ea            (time, z_l, yh, xh) float32 ...\n",
       "    eb            (time, z_l, yh, xh) float32 ...\n",
       "    umo           (time, z_l, yh, xq) float32 ...\n",
       "    vmo           (time, z_l, yq, xh) float32 ...\n",
       "    N2            (time, z_i, yh, xh) float32 ...\n",
       "    average_T1    (time) datetime64[ns] ...\n",
       "    average_T2    (time) datetime64[ns] ...\n",
       "    average_DT    (time) timedelta64[ns] ...\n",
       "    time_bnds     (time, nv) timedelta64[ns] ...\n",
       "Attributes:\n",
       "    filename:          hist_control_dynamics3d_monthly__2009.nc\n",
       "    title:             control\n",
       "    associated_files:  area_t: hist_control_ocean_static.nc\n",
       "    grid_type:         regular\n",
       "    grid_tile:         N/A"
      ]
     },
     "execution_count": 23,
     "metadata": {},
     "output_type": "execute_result"
    }
   ],
   "source": [
    "fns = sorted(glob.glob(inpath +'*dynamics3d_monthly*.nc')) # sorted() makes sure the files are sorted in time\n",
    "ds_in = xr.open_dataset(fns[0])\n",
    "ds_in"
   ]
  },
  {
   "cell_type": "markdown",
   "metadata": {},
   "source": [
    "# Get Regional Data"
   ]
  },
  {
   "cell_type": "code",
   "execution_count": 24,
   "metadata": {},
   "outputs": [
    {
     "name": "stdout",
     "output_type": "stream",
     "text": [
      "processing:  2009\n",
      "processing:  2010\n",
      "processing:  2011\n",
      "processing:  2012\n",
      "processing:  2013\n",
      "processing:  2014\n",
      "processing:  2015\n",
      "processing:  2016\n",
      "processing:  2017\n",
      "temp final shape (108, 35, 256, 428)\n"
     ]
    }
   ],
   "source": [
    "fns = sorted(glob.glob(inpath +'*dynamics3d_monthly*.nc')) # sorted() makes sure the files are sorted in time\n",
    "\n",
    "# merge all ssh into one file\n",
    "cnt = 0;\n",
    "for ff, fn in enumerate(fns[:-1]):\n",
    "    ds_in = xr.open_dataset(fn)\n",
    "    \n",
    "    print('processing: ', fn[-7:-3])\n",
    "    \n",
    "    if ff == 0:\n",
    "        # intialize\n",
    "        temp = ds_in.temp\n",
    "        salt = ds_in.salt\n",
    "        u = ds_in.u\n",
    "        v = ds_in.v\n",
    "        Kd_interface = ds_in.Kd_interface \n",
    "        rhopot0 = ds_in.rhopot0\n",
    "#         ea = ds_in.ea\n",
    "#         eb = ds_in.eb\n",
    "        umo = ds_in.umo\n",
    "        vmo = ds_in.vmo\n",
    "#         N2 = ds_in.N2\n",
    "        \n",
    "        lat = np.array(ds_in.geolat)\n",
    "        lon = np.array(ds_in.geolon)\n",
    "        lat_u = np.array(ds_in.geolat_u)\n",
    "        lon_u = np.array(ds_in.geolon_u)\n",
    "        lat_v = np.array(ds_in.geolat_v)\n",
    "        lon_v = np.array(ds_in.geolon_v)\n",
    "    else:\n",
    "        # add on current time step along time dimension\n",
    "        temp = xr.concat((temp,ds_in.temp),dim = 'time')\n",
    "        salt = xr.concat((salt,ds_in.salt),dim = 'time')\n",
    "        u = xr.concat((u,ds_in.u),dim = 'time')\n",
    "        v = xr.concat((v,ds_in.v),dim = 'time')\n",
    "        Kd_interface = xr.concat((Kd_interface,ds_in.Kd_interface),dim = 'time')\n",
    "#         ea = xr.concat((ea,ds_in.ea),dim = 'time')\n",
    "#         eb = xr.concat((eb,ds_in.eb),dim = 'time')\n",
    "        umo = xr.concat((umo,ds_in.umo),dim = 'time')\n",
    "        vmo = xr.concat((vmo,ds_in.vmo),dim = 'time')\n",
    "#         N2 = xr.concat((N2,ds_in.N2),dim = 'time')\n",
    "        \n",
    "    cnt = cnt + ds_in.time.shape[0]\n",
    "\n",
    "print('temp final shape',temp.shape)"
   ]
  },
  {
   "cell_type": "code",
   "execution_count": 25,
   "metadata": {},
   "outputs": [
    {
     "name": "stderr",
     "output_type": "stream",
     "text": [
      "/home/jennap/anaconda3/lib/python3.7/site-packages/ipykernel_launcher.py:29: RuntimeWarning: Converting a CFTimeIndex with dates from a non-standard calendar, 'julian', to a pandas.DatetimeIndex, which uses dates from the standard calendar.  This may lead to subtle errors in operations that depend on the length of time between dates.\n"
     ]
    },
    {
     "data": {
      "text/plain": [
       "<xarray.Dataset>\n",
       "Dimensions:       (lat: 256, lat_u: 256, lat_v: 257, lon: 428, lon_u: 429, lon_v: 428, time: 108, z_i: 36, z_l: 35)\n",
       "Coordinates:\n",
       "  * time          (time) datetime64[ns] 2009-01-16T12:00:00 ... 2017-12-16T12:00:00\n",
       "  * z_l           (z_l) float64 2.5 10.0 20.0 32.5 ... 5.5e+03 6e+03 6.5e+03\n",
       "  * lat           (lat) float32 -30.455408 -30.239664 ... 30.023445 30.239664\n",
       "  * lon           (lon) float32 29.375 29.625 29.875 ... 135.625 135.875 136.125\n",
       "  * lat_u         (lat_u) float32 -30.455408 -30.239664 ... 30.023445 30.239664\n",
       "  * lon_u         (lon_u) float32 29.25 29.5 29.75 30.0 ... 135.75 136.0 136.25\n",
       "  * lat_v         (lat_v) float32 -30.563103 -30.347595 ... 30.131615 30.347595\n",
       "  * lon_v         (lon_v) float32 29.375 29.625 29.875 ... 135.875 136.125\n",
       "  * z_i           (z_i) float64 0.0 5.0 15.0 25.0 ... 5.75e+03 6.25e+03 6.75e+03\n",
       "Data variables:\n",
       "    temp          (time, z_l, lat, lon) float32 nan nan nan nan ... nan nan nan\n",
       "    salt          (time, z_l, lat, lon) float32 nan nan nan nan ... nan nan nan\n",
       "    u             (time, z_l, lat_u, lon_u) float32 nan nan nan ... nan nan nan\n",
       "    v             (time, z_l, lat_v, lon_v) float32 nan nan nan ... nan nan nan\n",
       "    Kd_interface  (time, z_i, lat, lon) float32 nan nan nan nan ... nan nan nan\n",
       "    umo           (time, z_l, lat_u, lon_u) float32 nan nan nan ... nan nan nan\n",
       "    vmo           (time, z_l, lat_v, lon_v) float32 nan nan nan ... nan nan nan"
      ]
     },
     "execution_count": 25,
     "metadata": {},
     "output_type": "execute_result"
    }
   ],
   "source": [
    "# convert to xarray dataset\n",
    "ds_out = xr.Dataset()\n",
    "\n",
    "dims = ['time','z_l','lat', 'lon']\n",
    "coords = [temp.time,temp.z_l,lat[:,0],lon[0,:]]\n",
    "\n",
    "dims_u = ['time','z_l','lat_u', 'lon_u']\n",
    "coords_u = [temp.time,temp.z_l,lat_u[:,0],lon_u[0,:]]\n",
    "\n",
    "dims_v = ['time','z_l','lat_v', 'lon_v']\n",
    "coords_v = [temp.time,temp.z_l,lat_v[:,0],lon_v[0,:]]\n",
    "\n",
    "dims_i = ['time','z_i','lat', 'lon']\n",
    "coords_i = [temp.time,Kd_interface.z_i,lat[:,0],lon[0,:]]\n",
    "\n",
    "# add variables to dataset\n",
    "ds_out['temp']=xr.DataArray(np.array(temp),dims = dims,coords =coords)\n",
    "ds_out['salt']=xr.DataArray(np.array(salt),dims = dims,coords =coords)\n",
    "ds_out['u']=xr.DataArray(np.array(u),dims = dims_u,coords =coords_u)\n",
    "ds_out['v']=xr.DataArray(np.array(v),dims = dims_v,coords =coords_v)\n",
    "ds_out['Kd_interface']=xr.DataArray(np.array(Kd_interface),dims = dims_i,coords =coords_i)\n",
    "# ds_out['ea']=xr.DataArray(np.array(ea),dims = dims,coords =coords)\n",
    "# ds_out['eb']=xr.DataArray(np.array(eb),dims = dims,coords =coords)\n",
    "ds_out['umo']=xr.DataArray(np.array(umo),dims = dims_u,coords =coords_u)\n",
    "ds_out['vmo']=xr.DataArray(np.array(vmo),dims = dims_v,coords =coords_v)\n",
    "# ds_out['N2']=xr.DataArray(np.array(N2),dims = dims_i,coords =coords_i)\n",
    "\n",
    "# convert to datetime format\n",
    "datetimeindex = ds_out.indexes['time'].to_datetimeindex()\n",
    "ds_out['time'] = datetimeindex\n",
    "ds_out\n"
   ]
  },
  {
   "cell_type": "markdown",
   "metadata": {},
   "source": [
    "# Save"
   ]
  },
  {
   "cell_type": "code",
   "execution_count": 26,
   "metadata": {},
   "outputs": [
    {
     "data": {
      "text/plain": [
       "<xarray.Dataset>\n",
       "Dimensions:       (lat: 256, lat_u: 256, lat_v: 257, lon: 428, lon_u: 429, lon_v: 428, time: 108, z_i: 36, z_l: 35)\n",
       "Coordinates:\n",
       "  * time          (time) datetime64[ns] 2009-01-16T12:00:00 ... 2017-12-16T12:00:00\n",
       "  * z_l           (z_l) float64 2.5 10.0 20.0 32.5 ... 5.5e+03 6e+03 6.5e+03\n",
       "  * lat           (lat) float32 -30.455408 -30.239664 ... 30.023445 30.239664\n",
       "  * lon           (lon) float32 29.375 29.625 29.875 ... 135.625 135.875 136.125\n",
       "  * lat_u         (lat_u) float32 -30.455408 -30.239664 ... 30.023445 30.239664\n",
       "  * lon_u         (lon_u) float32 29.25 29.5 29.75 30.0 ... 135.75 136.0 136.25\n",
       "  * lat_v         (lat_v) float32 -30.563103 -30.347595 ... 30.131615 30.347595\n",
       "  * lon_v         (lon_v) float32 29.375 29.625 29.875 ... 135.875 136.125\n",
       "  * z_i           (z_i) float64 0.0 5.0 15.0 25.0 ... 5.75e+03 6.25e+03 6.75e+03\n",
       "Data variables:\n",
       "    temp          (time, z_l, lat, lon) float32 nan nan nan nan ... nan nan nan\n",
       "    salt          (time, z_l, lat, lon) float32 nan nan nan nan ... nan nan nan\n",
       "    u             (time, z_l, lat_u, lon_u) float32 nan nan nan ... nan nan nan\n",
       "    v             (time, z_l, lat_v, lon_v) float32 nan nan nan ... nan nan nan\n",
       "    Kd_interface  (time, z_i, lat, lon) float32 nan nan nan nan ... nan nan nan\n",
       "    umo           (time, z_l, lat_u, lon_u) float32 nan nan nan ... nan nan nan\n",
       "    vmo           (time, z_l, lat_v, lon_v) float32 nan nan nan ... nan nan nan"
      ]
     },
     "execution_count": 26,
     "metadata": {},
     "output_type": "execute_result"
    }
   ],
   "source": [
    "\n",
    "# delete if already present\n",
    "if os.path.isfile(outpath + outfn):\n",
    "    os.remove(outpath + outfn)\n",
    "\n",
    "ds_out.to_netcdf(outpath + outfn,mode='w',format = \"NETCDF4\")\n",
    "\n",
    "ds_out"
   ]
  },
  {
   "cell_type": "code",
   "execution_count": null,
   "metadata": {},
   "outputs": [],
   "source": []
  }
 ],
 "metadata": {
  "kernelspec": {
   "display_name": "Python 3",
   "language": "python",
   "name": "python3"
  },
  "language_info": {
   "codemirror_mode": {
    "name": "ipython",
    "version": 3
   },
   "file_extension": ".py",
   "mimetype": "text/x-python",
   "name": "python",
   "nbconvert_exporter": "python",
   "pygments_lexer": "ipython3",
   "version": "3.7.3"
  }
 },
 "nbformat": 4,
 "nbformat_minor": 2
}
