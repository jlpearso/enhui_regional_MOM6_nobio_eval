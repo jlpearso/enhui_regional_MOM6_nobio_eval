{
 "cells": [
  {
   "cell_type": "markdown",
   "metadata": {},
   "source": [
    "# Setup"
   ]
  },
  {
   "cell_type": "code",
   "execution_count": 1,
   "metadata": {},
   "outputs": [
    {
     "name": "stdout",
     "output_type": "stream",
     "text": [
      "Default libraries loaded.\n"
     ]
    }
   ],
   "source": [
    "# import your standard packages and parameters\n",
    "%run ../pkgs.py\n",
    "%run ../pars.py\n",
    "\n",
    "# import your local functions\n",
    "sys.path.insert(1, '../')\n",
    "from local_functions import *\n",
    "from MOM6_functions import *\n",
    "\n",
    "# make sure the figures plot inline rather than at the end\n",
    "%matplotlib inline"
   ]
  },
  {
   "cell_type": "markdown",
   "metadata": {},
   "source": [
    "# Paths and Fns"
   ]
  },
  {
   "cell_type": "code",
   "execution_count": 2,
   "metadata": {},
   "outputs": [],
   "source": [
    "inpath = '/scratch/gpfs2/GEOCLIM/LRGROUP/Liao/MOM6-regional-0522-2021/ice_ocean_SIS2/regional_IndianOcean_control_config_025_correctaxis/'\n",
    "outpath = '../../data/'\n",
    "\n",
    "outfn = '3d_var_regional_processed.nc'"
   ]
  },
  {
   "cell_type": "code",
   "execution_count": 4,
   "metadata": {},
   "outputs": [
    {
     "data": {
      "text/plain": [
       "<xarray.Dataset>\n",
       "Dimensions:       (nv: 2, time: 12, xh: 428, xq: 429, yh: 256, yq: 257, z_i: 36, z_l: 35)\n",
       "Coordinates:\n",
       "  * xh            (xh) float64 29.38 29.62 29.88 30.12 ... 135.6 135.9 136.1\n",
       "  * yh            (yh) float64 -30.46 -30.24 -30.02 -29.81 ... 29.81 30.02 30.24\n",
       "  * time          (time) object 2009-01-16 12:00:00 ... 2009-12-16 12:00:00\n",
       "  * nv            (nv) float64 1.0 2.0\n",
       "  * xq            (xq) float64 29.25 29.5 29.75 30.0 ... 135.5 135.8 136.0 136.2\n",
       "  * yq            (yq) float64 -30.56 -30.35 -30.13 -29.92 ... 29.92 30.13 30.35\n",
       "  * z_l           (z_l) float64 2.5 10.0 20.0 32.5 ... 5.5e+03 6e+03 6.5e+03\n",
       "  * z_i           (z_i) float64 0.0 5.0 15.0 25.0 ... 5.75e+03 6.25e+03 6.75e+03\n",
       "Data variables:\n",
       "    geolat        (yh, xh) float32 ...\n",
       "    geolon        (yh, xh) float32 ...\n",
       "    geolat_c      (yq, xq) float32 ...\n",
       "    geolon_c      (yq, xq) float32 ...\n",
       "    geolat_u      (yh, xq) float32 ...\n",
       "    geolon_u      (yh, xq) float32 ...\n",
       "    geolat_v      (yq, xh) float32 ...\n",
       "    geolon_v      (yq, xh) float32 ...\n",
       "    temp          (time, z_l, yh, xh) float32 ...\n",
       "    salt          (time, z_l, yh, xh) float32 ...\n",
       "    u             (time, z_l, yh, xq) float32 ...\n",
       "    v             (time, z_l, yq, xh) float32 ...\n",
       "    Kd_interface  (time, z_i, yh, xh) float32 ...\n",
       "    rhopot0       (time, z_l, yh, xh) float32 ...\n",
       "    ea            (time, z_l, yh, xh) float32 ...\n",
       "    eb            (time, z_l, yh, xh) float32 ...\n",
       "    umo           (time, z_l, yh, xq) float32 ...\n",
       "    vmo           (time, z_l, yq, xh) float32 ...\n",
       "    N2            (time, z_i, yh, xh) float32 ...\n",
       "    average_T1    (time) datetime64[ns] ...\n",
       "    average_T2    (time) datetime64[ns] ...\n",
       "    average_DT    (time) timedelta64[ns] ...\n",
       "    time_bnds     (time, nv) timedelta64[ns] ...\n",
       "Attributes:\n",
       "    filename:          hist_control_dynamics3d_monthly__2009.nc\n",
       "    title:             control\n",
       "    associated_files:  area_t: hist_control_ocean_static.nc\n",
       "    grid_type:         regular\n",
       "    grid_tile:         N/A"
      ]
     },
     "execution_count": 4,
     "metadata": {},
     "output_type": "execute_result"
    }
   ],
   "source": [
    "fns = sorted(glob.glob(inpath +'*dynamics3d_monthly*.nc')) # sorted() makes sure the files are sorted in time\n",
    "ds_in = xr.open_dataset(fns[0])\n",
    "ds_in"
   ]
  },
  {
   "cell_type": "code",
   "execution_count": 5,
   "metadata": {},
   "outputs": [
    {
     "data": {
      "text/plain": [
       "<xarray.DataArray 'geolat' (yh: 256, xh: 428)>\n",
       "[109568 values with dtype=float32]\n",
       "Coordinates:\n",
       "  * xh       (xh) float64 29.38 29.62 29.88 30.12 ... 135.4 135.6 135.9 136.1\n",
       "  * yh       (yh) float64 -30.46 -30.24 -30.02 -29.81 ... 29.81 30.02 30.24\n",
       "Attributes:\n",
       "    long_name:     Latitude of tracer (T) points\n",
       "    units:         degrees_north\n",
       "    cell_methods:  time: point"
      ]
     },
     "execution_count": 5,
     "metadata": {},
     "output_type": "execute_result"
    }
   ],
   "source": [
    "ds_in.geolat"
   ]
  },
  {
   "cell_type": "markdown",
   "metadata": {},
   "source": [
    "# Get Regional Data"
   ]
  },
  {
   "cell_type": "code",
   "execution_count": 4,
   "metadata": {},
   "outputs": [
    {
     "name": "stdout",
     "output_type": "stream",
     "text": [
      "processing:  2009\n",
      "processing:  2010\n",
      "processing:  2011\n",
      "processing:  2012\n",
      "processing:  2013\n",
      "processing:  2014\n",
      "processing:  2015\n",
      "processing:  2016\n",
      "processing:  2017\n",
      "SSH final shape (108, 256, 428)\n"
     ]
    }
   ],
   "source": [
    "fns = sorted(glob.glob(inpath +'*dynamics3d_monthly*.nc')) # sorted() makes sure the files are sorted in time\n",
    "\n",
    "# merge all ssh into one file\n",
    "cnt = 0;\n",
    "for ff, fn in enumerate(fns[:-1]):\n",
    "    ds_in = xr.open_dataset(fn)\n",
    "    \n",
    "    print('processing: ', fn[-7:-3])\n",
    "    \n",
    "    if ff == 0:\n",
    "        # intialize\n",
    "        SSH = ds_in.SSH\n",
    "        SST = ds_in.SST\n",
    "        SSS = ds_in.SSS\n",
    "        SSU = ds_in.SSU\n",
    "        SSV = ds_in.SSV\n",
    "        taux = ds_in.taux\n",
    "        tauy = ds_in.tauy\n",
    "        SW = ds_in.SW\n",
    "        LW = ds_in.LW\n",
    "        latent = ds_in.latent\n",
    "        sensible = ds_in.sensible\n",
    "        MLD_003 = ds_in.MLD_003\n",
    "        MLD_0125 = ds_in.MLD_0125\n",
    "        evap = ds_in.evap\n",
    "        precip = ds_in.precip\n",
    "        PRCmE = ds_in.PRCmE\n",
    "        ePBL_h_ML = ds_in.ePBL_h_ML\n",
    "        hfrunoffds = ds_in.hfrunoffds\n",
    "        net_heat_coupler  = ds_in.net_heat_coupler \n",
    "        net_heat_surface = ds_in.net_heat_surface\n",
    "        salt_flux = ds_in.salt_flux\n",
    "        salt_flux_added = ds_in.salt_flux_added\n",
    "        net_fresh_water_global_adjustment = ds_in.net_fresh_water_global_adjustment\n",
    "        lrunoff  = ds_in.lrunoff \n",
    "        \n",
    "#         # caluculate vorticity\n",
    "#         vort = surface_vorticity(ds_in.SSU,ds_in.SSV,ds_in.geolat_u,ds_in.geolon_u,\n",
    "#                                  ds_in.geolat_v,ds_in.geolon_v,cont_check=True)\n",
    "        \n",
    "        lat = np.array(ds_in.geolat)\n",
    "        lon = np.array(ds_in.geolon)\n",
    "        lat_u = np.array(ds_in.geolat_u)\n",
    "        lon_u = np.array(ds_in.geolon_u)\n",
    "        lat_v = np.array(ds_in.geolat_v)\n",
    "        lon_v = np.array(ds_in.geolon_v)\n",
    "    else:\n",
    "        # add on current time step along time dimension\n",
    "        SSH = xr.concat((SSH,ds_in.SSH),dim = 'time')\n",
    "        SST = xr.concat((SST,ds_in.SST),dim = 'time')\n",
    "        SSS = xr.concat((SSS,ds_in.SSS),dim = 'time')\n",
    "        SSU = xr.concat((SSU,ds_in.SSU),dim = 'time')\n",
    "        SSV = xr.concat((SSV,ds_in.SSV),dim = 'time')\n",
    "        taux = xr.concat((taux,ds_in.taux),dim = 'time')\n",
    "        tauy = xr.concat((tauy,ds_in.tauy),dim = 'time')\n",
    "        SW = xr.concat((SW,ds_in.SW),dim = 'time')\n",
    "        LW = xr.concat((LW,ds_in.LW),dim = 'time')\n",
    "        latent = xr.concat((latent,ds_in.latent),dim = 'time')\n",
    "        sensible = xr.concat((sensible,ds_in.sensible),dim = 'time')\n",
    "        MLD_003 = xr.concat((MLD_003,ds_in.MLD_003),dim = 'time')\n",
    "        MLD_0125 = xr.concat((MLD_0125,ds_in.MLD_0125),dim = 'time')\n",
    "        evap = xr.concat((evap,ds_in.evap),dim = 'time')\n",
    "        precip = xr.concat((precip,ds_in.precip),dim = 'time')\n",
    "        PRCmE = xr.concat((PRCmE,ds_in.PRCmE),dim = 'time')\n",
    "        ePBL_h_ML = xr.concat((ePBL_h_ML,ds_in.ePBL_h_ML),dim = 'time')\n",
    "        hfrunoffds = xr.concat((hfrunoffds,ds_in.hfrunoffds),dim = 'time')\n",
    "        net_heat_coupler  = xr.concat((net_heat_coupler,ds_in.net_heat_coupler),dim = 'time') \n",
    "        net_heat_surface = xr.concat((net_heat_surface,ds_in.net_heat_surface),dim = 'time')\n",
    "        salt_flux = xr.concat((salt_flux,ds_in.salt_flux),dim = 'time')\n",
    "        salt_flux_added = xr.concat((salt_flux_added,ds_in.salt_flux_added),dim = 'time')\n",
    "        net_fresh_water_global_adjustment = xr.concat((net_fresh_water_global_adjustment,ds_in.net_fresh_water_global_adjustment),dim = 'time')\n",
    "        lrunoff  = xr.concat((lrunoff,ds_in.lrunoff ),dim = 'time')\n",
    "        \n",
    "#         newvort = surface_vorticity(ds_in.SSU,ds_in.SSV,ds_in.geolat_u,ds_in.geolon_u,\n",
    "#                                  ds_in.geolat_v,ds_in.geolon_v)\n",
    "        \n",
    "#         vort = xr.concat((vort,newvort),dim = 'time')\n",
    "    \n",
    "    cnt = cnt + ds_in.time.shape[0]\n",
    "\n",
    "print('SSH final shape',SSH.shape)"
   ]
  },
  {
   "cell_type": "code",
   "execution_count": 5,
   "metadata": {},
   "outputs": [
    {
     "name": "stderr",
     "output_type": "stream",
     "text": [
      "/home/jennap/anaconda3/lib/python3.7/site-packages/ipykernel_launcher.py:42: RuntimeWarning: Converting a CFTimeIndex with dates from a non-standard calendar, 'julian', to a pandas.DatetimeIndex, which uses dates from the standard calendar.  This may lead to subtle errors in operations that depend on the length of time between dates.\n"
     ]
    },
    {
     "data": {
      "text/plain": [
       "<xarray.Dataset>\n",
       "Dimensions:                            (lat: 256, lat_u: 256, lat_v: 257, lon: 428, lon_u: 429, lon_v: 428, scalar_axis: 1, time: 108)\n",
       "Coordinates:\n",
       "  * time                               (time) datetime64[ns] 2009-01-16T12:00:00 ... 2017-12-16T12:00:00\n",
       "  * lat                                (lat) float32 -30.455408 ... 30.239664\n",
       "  * lon                                (lon) float32 29.375 29.625 ... 136.125\n",
       "  * lat_u                              (lat_u) float32 -30.455408 ... 30.239664\n",
       "  * lon_u                              (lon_u) float32 29.25 29.5 ... 136.25\n",
       "  * lat_v                              (lat_v) float32 -30.563103 ... 30.347595\n",
       "  * lon_v                              (lon_v) float32 29.375 29.625 ... 136.125\n",
       "  * scalar_axis                        (scalar_axis) int64 0\n",
       "Data variables:\n",
       "    SSH                                (time, lat, lon) float32 nan ... 0.77636755\n",
       "    SST                                (time, lat, lon) float32 nan ... 22.229717\n",
       "    SSS                                (time, lat, lon) float32 nan ... 34.748463\n",
       "    SSU                                (time, lat_u, lon_u) float32 nan ... -0.07063773\n",
       "    SSV                                (time, lat_v, lon_v) float32 nan ... -0.19698285\n",
       "    taux                               (time, lat_u, lon_u) float32 nan ... 0.0\n",
       "    tauy                               (time, lat_v, lon_v) float32 nan ... 0.0\n",
       "    SW                                 (time, lat, lon) float32 nan ... 83.52039\n",
       "    LW                                 (time, lat, lon) float32 nan ... -88.89058\n",
       "    latent                             (time, lat, lon) float32 nan ... -302.7011\n",
       "    sensible                           (time, lat, lon) float32 nan ... -82.72455\n",
       "    MLD_003                            (time, lat, lon) float32 nan ... 91.64145\n",
       "    MLD_0125                           (time, lat, lon) float32 nan ... 119.13274\n",
       "    evap                               (time, lat, lon) float32 nan ... -0.00012108044\n",
       "    precip                             (time, lat, lon) float32 nan ... 3.3322613e-05\n",
       "    PRCmE                              (time, lat, lon) float32 nan ... -8.775783e-05\n",
       "    ePBL_h_ML                          (time, lat, lon) float32 nan ... 81.018394\n",
       "    hfrunoffds                         (time, lat, lon) float32 nan nan ... 0.0\n",
       "    net_heat_coupler                   (time, lat, lon) float32 nan ... -390.79584\n",
       "    net_heat_surface                   (time, lat, lon) float32 nan ... -398.5434\n",
       "    salt_flux                          (time, lat, lon) float32 nan ... -9.071164e-09\n",
       "    salt_flux_added                    (time, lat, lon) float32 nan ... -9.2084e-09\n",
       "    net_fresh_water_global_adjustment  (time, scalar_axis) float32 0.0 ... 0.0\n",
       "    lrunoff                            (time, lat, lon) float32 nan nan ... 0.0"
      ]
     },
     "execution_count": 5,
     "metadata": {},
     "output_type": "execute_result"
    }
   ],
   "source": [
    "# convert to xarray dataset\n",
    "ds_out = xr.Dataset(coords={'time': SSH.time,\n",
    "                       'lat': lat[:,0],\n",
    "                       'lon': lon[0,:]})\n",
    "\n",
    "dims = ['time','lat', 'lon']\n",
    "coords = [SSH.time,lat[:,0],lon[0,:]]\n",
    "\n",
    "dims_u = ['time','lat_u', 'lon_u']\n",
    "coords_u = [SSH.time,lat_u[:,0],lon_u[0,:]]\n",
    "\n",
    "dims_v = ['time','lat_v', 'lon_v']\n",
    "coords_v = [SSH.time,lat_v[:,0],lon_v[0,:]]\n",
    "\n",
    "# add variables to dataset\n",
    "ds_out['SSH']=xr.DataArray(np.array(SSH),dims = dims,coords =coords)\n",
    "ds_out['SST']=xr.DataArray(np.array(SST),dims = dims,coords =coords)\n",
    "ds_out['SSS']=xr.DataArray(np.array(SSS),dims = dims,coords =coords)\n",
    "ds_out['SSU']=xr.DataArray(np.array(SSU),dims = dims_u,coords =coords_u)\n",
    "ds_out['SSV']=xr.DataArray(np.array(SSV),dims = dims_v,coords =coords_v)\n",
    "ds_out['taux']=xr.DataArray(np.array(taux),dims = dims_u,coords =coords_u)\n",
    "ds_out['tauy']=xr.DataArray(np.array(tauy),dims = dims_v,coords =coords_v)\n",
    "ds_out['SW']=xr.DataArray(np.array(SW),dims = dims,coords =coords)\n",
    "ds_out['LW']=xr.DataArray(np.array(LW),dims = dims,coords =coords)\n",
    "ds_out['latent']=xr.DataArray(np.array(latent),dims = dims,coords =coords)\n",
    "ds_out['sensible']=xr.DataArray(np.array(sensible),dims = dims,coords =coords)\n",
    "ds_out['MLD_003']=xr.DataArray(np.array(MLD_003),dims = dims,coords =coords)\n",
    "ds_out['MLD_0125']=xr.DataArray(np.array(MLD_0125),dims = dims,coords =coords)\n",
    "ds_out['evap']=xr.DataArray(np.array(evap),dims = dims,coords =coords)\n",
    "ds_out['precip']=xr.DataArray(np.array(precip),dims = dims,coords =coords)\n",
    "ds_out['PRCmE']=xr.DataArray(np.array(PRCmE),dims = dims,coords =coords)\n",
    "ds_out['ePBL_h_ML']=xr.DataArray(np.array(ePBL_h_ML),dims = dims,coords =coords)\n",
    "ds_out['hfrunoffds']=xr.DataArray(np.array(hfrunoffds),dims = dims,coords =coords)\n",
    "ds_out['net_heat_coupler']=xr.DataArray(np.array(net_heat_coupler),dims = dims,coords =coords)\n",
    "ds_out['net_heat_surface']=xr.DataArray(np.array(net_heat_surface),dims = dims,coords =coords)\n",
    "ds_out['salt_flux']=xr.DataArray(np.array(salt_flux),dims = dims,coords =coords)\n",
    "ds_out['salt_flux_added']=xr.DataArray(np.array(salt_flux_added),dims = dims,coords =coords)\n",
    "ds_out['net_fresh_water_global_adjustment']=xr.DataArray(np.array(net_fresh_water_global_adjustment),dims = ['time','scalar_axis'],coords =[SSH.time,[0]])\n",
    "ds_out['lrunoff']=xr.DataArray(np.array(lrunoff),dims = dims,coords =coords)\n",
    "\n",
    "# convert to datetime format\n",
    "datetimeindex = ds_out.indexes['time'].to_datetimeindex()\n",
    "ds_out['time'] = datetimeindex\n",
    "ds_out\n"
   ]
  },
  {
   "cell_type": "markdown",
   "metadata": {},
   "source": [
    "# Save"
   ]
  },
  {
   "cell_type": "code",
   "execution_count": 9,
   "metadata": {},
   "outputs": [
    {
     "data": {
      "text/plain": [
       "<xarray.Dataset>\n",
       "Dimensions:                            (lat: 256, lat_u: 256, lat_v: 257, lon: 428, lon_u: 429, lon_v: 428, scalar_axis: 1, time: 108)\n",
       "Coordinates:\n",
       "  * time                               (time) datetime64[ns] 2009-01-16T12:00:00 ... 2017-12-16T12:00:00\n",
       "  * lat                                (lat) float32 -30.455408 ... 30.239664\n",
       "  * lon                                (lon) float32 29.375 29.625 ... 136.125\n",
       "  * lat_u                              (lat_u) float32 -30.455408 ... 30.239664\n",
       "  * lon_u                              (lon_u) float32 29.25 29.5 ... 136.25\n",
       "  * lat_v                              (lat_v) float32 -30.563103 ... 30.347595\n",
       "  * lon_v                              (lon_v) float32 29.375 29.625 ... 136.125\n",
       "  * scalar_axis                        (scalar_axis) int64 0\n",
       "Data variables:\n",
       "    SSH                                (time, lat, lon) float32 nan ... 0.77636755\n",
       "    SST                                (time, lat, lon) float32 nan ... 22.229717\n",
       "    SSS                                (time, lat, lon) float32 nan ... 34.748463\n",
       "    SSU                                (time, lat_u, lon_u) float32 nan ... -0.07063773\n",
       "    SSV                                (time, lat_v, lon_v) float32 nan ... -0.19698285\n",
       "    taux                               (time, lat_u, lon_u) float32 nan ... 0.0\n",
       "    tauy                               (time, lat_v, lon_v) float32 nan ... 0.0\n",
       "    SW                                 (time, lat, lon) float32 nan ... 83.52039\n",
       "    LW                                 (time, lat, lon) float32 nan ... -88.89058\n",
       "    latent                             (time, lat, lon) float32 nan ... -302.7011\n",
       "    sensible                           (time, lat, lon) float32 nan ... -82.72455\n",
       "    MLD_003                            (time, lat, lon) float32 nan ... 91.64145\n",
       "    MLD_0125                           (time, lat, lon) float32 nan ... 119.13274\n",
       "    evap                               (time, lat, lon) float32 nan ... -0.00012108044\n",
       "    precip                             (time, lat, lon) float32 nan ... 3.3322613e-05\n",
       "    PRCmE                              (time, lat, lon) float32 nan ... -8.775783e-05\n",
       "    ePBL_h_ML                          (time, lat, lon) float32 nan ... 81.018394\n",
       "    hfrunoffds                         (time, lat, lon) float32 nan nan ... 0.0\n",
       "    net_heat_coupler                   (time, lat, lon) float32 nan ... -390.79584\n",
       "    net_heat_surface                   (time, lat, lon) float32 nan ... -398.5434\n",
       "    salt_flux                          (time, lat, lon) float32 nan ... -9.071164e-09\n",
       "    salt_flux_added                    (time, lat, lon) float32 nan ... -9.2084e-09\n",
       "    net_fresh_water_global_adjustment  (time, scalar_axis) float32 0.0 ... 0.0\n",
       "    lrunoff                            (time, lat, lon) float32 nan nan ... 0.0"
      ]
     },
     "execution_count": 9,
     "metadata": {},
     "output_type": "execute_result"
    }
   ],
   "source": [
    "\n",
    "# delete if already present\n",
    "if os.path.isfile(outpath + outfn):\n",
    "    os.remove(outpath + outfn)\n",
    "\n",
    "ds_out.to_netcdf(outpath + outfn,mode='w',format = \"NETCDF4\")\n",
    "\n",
    "ds_out"
   ]
  },
  {
   "cell_type": "code",
   "execution_count": null,
   "metadata": {},
   "outputs": [],
   "source": []
  }
 ],
 "metadata": {
  "kernelspec": {
   "display_name": "Python 3",
   "language": "python",
   "name": "python3"
  },
  "language_info": {
   "codemirror_mode": {
    "name": "ipython",
    "version": 3
   },
   "file_extension": ".py",
   "mimetype": "text/x-python",
   "name": "python",
   "nbconvert_exporter": "python",
   "pygments_lexer": "ipython3",
   "version": "3.7.3"
  }
 },
 "nbformat": 4,
 "nbformat_minor": 2
}
